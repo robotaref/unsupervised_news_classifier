{
 "cells": [
  {
   "cell_type": "markdown",
   "metadata": {},
   "source": [
    "# بسم الله الرحمن الرحیم"
   ]
  },
  {
   "cell_type": "markdown",
   "metadata": {},
   "source": [
    "در ابتدا هر کتاب خانه ای که نیاز بوده را منتقل کرده ام."
   ]
  },
  {
   "cell_type": "code",
   "execution_count": 484,
   "metadata": {},
   "outputs": [],
   "source": [
    "import pandas as pd\n",
    "from gensim.models import Word2Vec\n",
    "import numpy as np\n",
    "from sklearn.decomposition import PCA,NMF\n",
    "import matplotlib.pyplot as plt\n",
    "from nltk import  stem, word_tokenize,download\n",
    "from mpl_toolkits.mplot3d import Axes3D\n",
    "from sklearn.preprocessing import normalize\n",
    "from sklearn.metrics.pairwise import cosine_similarity\n",
    "from sklearn.cluster import KMeans\n",
    "import pandasql as ps\n",
    "from nltk import  stem, word_tokenize\n",
    "from nltk.corpus import stopwords\n",
    "from bs4 import BeautifulSoup\n",
    "import codecs\n",
    "import re"
   ]
  },
  {
   "cell_type": "markdown",
   "metadata": {},
   "source": [
    "دو قسمت از کتابخانه ی پردازش زبان طبیعی ممکن است نیاز به دانلود داشته باشد"
   ]
  },
  {
   "cell_type": "code",
   "execution_count": 319,
   "metadata": {},
   "outputs": [
    {
     "name": "stderr",
     "output_type": "stream",
     "text": [
      "[nltk_data] Downloading package punkt to\n",
      "[nltk_data]     /Users/arefghodamai/nltk_data...\n",
      "[nltk_data]   Package punkt is already up-to-date!\n",
      "[nltk_data] Downloading package stopwords to\n",
      "[nltk_data]     /Users/arefghodamai/nltk_data...\n",
      "[nltk_data]   Package stopwords is already up-to-date!\n"
     ]
    },
    {
     "data": {
      "text/plain": [
       "True"
      ]
     },
     "execution_count": 319,
     "metadata": {},
     "output_type": "execute_result"
    }
   ],
   "source": [
    "download('punkt')\n",
    "download('stopwords')\n"
   ]
  },
  {
   "cell_type": "markdown",
   "metadata": {},
   "source": [
    "متن های داده شده را میخوانیم"
   ]
  },
  {
   "cell_type": "code",
   "execution_count": 476,
   "metadata": {},
   "outputs": [],
   "source": [
    "subjects=['tech','sport','politics','entertainment','business']\n",
    "news=pd.DataFrame(columns=['subject','text'])\n",
    "n_samples=500\n",
    "for i in range(1,n_samples):\n",
    "    for sub in subjects:\n",
    "        try:\n",
    "            file_name='bbc-raw/'+sub+'/'+str(i).zfill(3)+'.txt'\n",
    "            #print(file_name)\n",
    "            text_file=open(file_name)\n",
    "            n={'subject':sub,'text':text_file.read()}\n",
    "            news=news.append(n, ignore_index=True )\n",
    "        except:\n",
    "            pass"
   ]
  },
  {
   "cell_type": "code",
   "execution_count": 406,
   "metadata": {},
   "outputs": [
    {
     "data": {
      "text/html": [
       "<div>\n",
       "<style scoped>\n",
       "    .dataframe tbody tr th:only-of-type {\n",
       "        vertical-align: middle;\n",
       "    }\n",
       "\n",
       "    .dataframe tbody tr th {\n",
       "        vertical-align: top;\n",
       "    }\n",
       "\n",
       "    .dataframe thead th {\n",
       "        text-align: right;\n",
       "    }\n",
       "</style>\n",
       "<table border=\"1\" class=\"dataframe\">\n",
       "  <thead>\n",
       "    <tr style=\"text-align: right;\">\n",
       "      <th></th>\n",
       "      <th>subject</th>\n",
       "      <th>text</th>\n",
       "    </tr>\n",
       "  </thead>\n",
       "  <tbody>\n",
       "    <tr>\n",
       "      <th>0</th>\n",
       "      <td>tech</td>\n",
       "      <td>Ink helps drive democracy in Asia\\n\\nThe Kyrgy...</td>\n",
       "    </tr>\n",
       "    <tr>\n",
       "      <th>1</th>\n",
       "      <td>sport</td>\n",
       "      <td>Claxton hunting first major medal\\n\\nBritish h...</td>\n",
       "    </tr>\n",
       "    <tr>\n",
       "      <th>2</th>\n",
       "      <td>politics</td>\n",
       "      <td>Labour plans maternity pay rise\\n\\nMaternity p...</td>\n",
       "    </tr>\n",
       "    <tr>\n",
       "      <th>3</th>\n",
       "      <td>entertainment</td>\n",
       "      <td>Gallery unveils interactive tree\\n\\nA Christma...</td>\n",
       "    </tr>\n",
       "    <tr>\n",
       "      <th>4</th>\n",
       "      <td>business</td>\n",
       "      <td>Ad sales boost Time Warner profit\\n\\nQuarterly...</td>\n",
       "    </tr>\n",
       "  </tbody>\n",
       "</table>\n",
       "</div>"
      ],
      "text/plain": [
       "         subject                                               text\n",
       "0           tech  Ink helps drive democracy in Asia\\n\\nThe Kyrgy...\n",
       "1          sport  Claxton hunting first major medal\\n\\nBritish h...\n",
       "2       politics  Labour plans maternity pay rise\\n\\nMaternity p...\n",
       "3  entertainment  Gallery unveils interactive tree\\n\\nA Christma...\n",
       "4       business  Ad sales boost Time Warner profit\\n\\nQuarterly..."
      ]
     },
     "execution_count": 406,
     "metadata": {},
     "output_type": "execute_result"
    }
   ],
   "source": [
    "news.head()"
   ]
  },
  {
   "cell_type": "markdown",
   "metadata": {},
   "source": [
    "حال نیاز به پیش پردازش داده ها داریم. ابتدا به کمک رجکس، چیزهایی از قبیل ایمیل، اسامی سایت و کاراکترهای نامربوط را حذف می کنیم. \n",
    "سپس به کمک کتابخانه ی\n",
    "BeautifulSoup \n",
    "فرمت های اچ تی ام ال را حذف می کنیم،و با کمک ابزارهای پردازش زبان طبیعی، کلمات اضافه را حذف می کنیم."
   ]
  },
  {
   "cell_type": "code",
   "execution_count": 407,
   "metadata": {},
   "outputs": [],
   "source": [
    "compile_patterns = lambda patterns: [(re.compile(pattern), repl) for pattern, repl in patterns]\n",
    "\n",
    "class PreprocessDescription(object):\n",
    "    def __init__(self, lemmatizer_params, tokenizer_params,stop_words):\n",
    "        self.lemmatizer = stem.PorterStemmer(**lemmatizer_params)\n",
    "        \n",
    "        junk_chars_regex=r'[^a-zA-Z0-9\\u0621-\\u06CC\\u0698\\u067E\\u0686\\u06AF \\u200c]'\n",
    "        url_regex = r\"\"\"(?i)\\b((?:[a-z][\\w-]+:(?:/{1,3}|[a-z0-9%])|www\\d{0,3}[.]|[a-z0-9.\\-]+[.][a-z]{2,4}/)(?:[^\\s()<>]+|\\(([^\\s()<>]+|(\\([^\\s()<>]+\\)))*\\))+(?:\\(([^\\s()<>]+|(\\([^\\s()<>]+\\)))*\\)|[^\\s`!()\\[\\]{};:\\'\\\".,<>?«»“”‘’]))\"\"\"\n",
    "        RFC_5322_COMPLIANT_EMAIL_REGEX = r\"(^[a-zA-Z0-9_.+-]+@[a-zA-Z0-9-]+\\.[a-zA-Z0-9-.]+$)\"\n",
    "        \n",
    "        remove_url=(url_regex, ' ')\n",
    "        remove_email=(RFC_5322_COMPLIANT_EMAIL_REGEX, ' ')\n",
    "        remove_junk_characters=(junk_chars_regex, ' ')\n",
    "        self.compiled_patterns_before = compile_patterns([remove_url,remove_email])\n",
    "        self.compiled_patterns_after = compile_patterns([remove_junk_characters])\n",
    "        self.stopwords=set(stopwords.words('english'))\n",
    "        \n",
    "    def preprocess(self, text):\n",
    "        # html parser\n",
    "        soup = BeautifulSoup(text, 'html.parser')\n",
    "        for br in soup.find_all(\"br\"):\n",
    "            br.replace_with(\"\\n \")\n",
    "        text = soup.getText()\n",
    "        text = text.lower()\n",
    "        for pattern, repl in self.compiled_patterns_before:\n",
    "            text = pattern.sub(repl, text)\n",
    "        text = re.sub(r'[\\u200c\\s]*\\s[\\s\\u200c]*', ' ', text)\n",
    "        text = re.sub(r'[\\u200c]+', '\\u200c', text)\n",
    "        \n",
    "        for pattern, repl in self.compiled_patterns_after:\n",
    "            text = pattern.sub(repl, text)\n",
    "            \n",
    "        ## tokenized_words\n",
    "        tokenized_words = word_tokenize(text)\n",
    "        ## lemmatized_data\n",
    "        lemmatized_words = [self.lemmatizer.stem(word) for word in tokenized_words]\n",
    "        lemmatized_witout_stopwords = [word for word in lemmatized_words if word not in self.stopwords]\n",
    "        return lemmatized_witout_stopwords"
   ]
  },
  {
   "cell_type": "code",
   "execution_count": 408,
   "metadata": {},
   "outputs": [],
   "source": [
    "preprocessDesc = PreprocessDescription(lemmatizer_params={},tokenizer_params={},stop_words=stop)"
   ]
  },
  {
   "cell_type": "markdown",
   "metadata": {},
   "source": [
    "نمونه ای از کلمات اضافه:"
   ]
  },
  {
   "cell_type": "code",
   "execution_count": 480,
   "metadata": {},
   "outputs": [
    {
     "name": "stdout",
     "output_type": "stream",
     "text": [
      "{'about', \"you'll\", 't', 'my', 'shouldn', 'an', 'ours', 'yours', \"isn't\", 'yourselves', 'those', 'hasn', 'not', 'some', 'it', \"it's\", 'them', 'these', 'is', 'each', 're', \"wasn't\", \"don't\", 'who', 's', \"won't\", 'whom', 'of', \"aren't\", 'can', 'once', 'her', 'as', 'because', 'where', \"weren't\", 'itself', \"shan't\", 'ma', 'here', \"couldn't\", 'haven', 'wouldn', 'been', 'then', 'but', 'very', 'from', 'ourselves', 'how', 'him', 'you', 'theirs', 'does', 'any', 'further', 'his', 'and', 'before', 'couldn', 'y', 'be', \"hadn't\", 'what', \"she's\", 'up', 'ain', \"shouldn't\", 'after', 'more', \"wouldn't\", \"doesn't\", 'such', 'mustn', 'a', 'me', 'so', 'if', 'd', 'll', 'on', 'other', 'hers', 'won', 'its', 'herself', 'there', 'than', 'being', 'while', 'i', 'above', 'weren', 'should', 'under', 'for', 'out', 'which', 'are', 'through', 'did', 'o', 'or', \"needn't\", 'was', 'she', 'don', 'their', 'didn', 'few', 'this', 'needn', \"haven't\", \"didn't\", 'only', 'hadn', 'shan', 'he', 'again', 'isn', 'do', 'we', 'between', 'when', 'with', 'themselves', 'doing', 'myself', 'himself', 'our', 'both', 'by', 'no', 'too', 'down', 'just', 'wasn', 'most', 'during', 've', \"you're\", 'your', \"mustn't\", 'same', 'has', 'the', 'that', 'below', \"hasn't\", 'have', 'at', 'now', 'aren', \"you'd\", 'all', 'were', \"you've\", 'am', 'm', 'until', 'doesn', \"should've\", 'own', 'mightn', 'had', 'they', 'into', 'against', 'to', \"mightn't\", 'over', 'having', 'off', 'yourself', 'nor', 'in', 'why', \"that'll\", 'will'}\n"
     ]
    }
   ],
   "source": [
    "stop=set(stopwords.words('english'))\n",
    "print(stop)"
   ]
  },
  {
   "cell_type": "markdown",
   "metadata": {},
   "source": [
    "حال این پیش پردازش را برای تمامی متن های اخبار اجرا می کنیم و زمان لازم برای اجرا را اندازه گیری می کنیم."
   ]
  },
  {
   "cell_type": "code",
   "execution_count": 409,
   "metadata": {},
   "outputs": [
    {
     "name": "stdout",
     "output_type": "stream",
     "text": [
      "19.085063219070435\n"
     ]
    }
   ],
   "source": [
    "import time\n",
    "start = time.time()\n",
    "preprocessed_text = []\n",
    "\n",
    "for index, row in news.iterrows():\n",
    "    res = preprocessDesc.preprocess(row['text'])\n",
    "    preprocessed_text.append(\" \".join(res))\n",
    "    \n",
    "news['preprocessed_text']=preprocessed_text\n",
    "print(time.time() - start)"
   ]
  },
  {
   "cell_type": "code",
   "execution_count": 483,
   "metadata": {},
   "outputs": [
    {
     "data": {
      "text/html": [
       "<div>\n",
       "<style scoped>\n",
       "    .dataframe tbody tr th:only-of-type {\n",
       "        vertical-align: middle;\n",
       "    }\n",
       "\n",
       "    .dataframe tbody tr th {\n",
       "        vertical-align: top;\n",
       "    }\n",
       "\n",
       "    .dataframe thead th {\n",
       "        text-align: right;\n",
       "    }\n",
       "</style>\n",
       "<table border=\"1\" class=\"dataframe\">\n",
       "  <thead>\n",
       "    <tr style=\"text-align: right;\">\n",
       "      <th></th>\n",
       "      <th>subject</th>\n",
       "      <th>text</th>\n",
       "    </tr>\n",
       "  </thead>\n",
       "  <tbody>\n",
       "    <tr>\n",
       "      <th>0</th>\n",
       "      <td>tech</td>\n",
       "      <td>Ink helps drive democracy in Asia\\n\\nThe Kyrgy...</td>\n",
       "    </tr>\n",
       "    <tr>\n",
       "      <th>1</th>\n",
       "      <td>sport</td>\n",
       "      <td>Claxton hunting first major medal\\n\\nBritish h...</td>\n",
       "    </tr>\n",
       "    <tr>\n",
       "      <th>2</th>\n",
       "      <td>politics</td>\n",
       "      <td>Labour plans maternity pay rise\\n\\nMaternity p...</td>\n",
       "    </tr>\n",
       "    <tr>\n",
       "      <th>3</th>\n",
       "      <td>entertainment</td>\n",
       "      <td>Gallery unveils interactive tree\\n\\nA Christma...</td>\n",
       "    </tr>\n",
       "    <tr>\n",
       "      <th>4</th>\n",
       "      <td>business</td>\n",
       "      <td>Ad sales boost Time Warner profit\\n\\nQuarterly...</td>\n",
       "    </tr>\n",
       "  </tbody>\n",
       "</table>\n",
       "</div>"
      ],
      "text/plain": [
       "         subject                                               text\n",
       "0           tech  Ink helps drive democracy in Asia\\n\\nThe Kyrgy...\n",
       "1          sport  Claxton hunting first major medal\\n\\nBritish h...\n",
       "2       politics  Labour plans maternity pay rise\\n\\nMaternity p...\n",
       "3  entertainment  Gallery unveils interactive tree\\n\\nA Christma...\n",
       "4       business  Ad sales boost Time Warner profit\\n\\nQuarterly..."
      ]
     },
     "execution_count": 483,
     "metadata": {},
     "output_type": "execute_result"
    }
   ],
   "source": [
    "news.head()"
   ]
  },
  {
   "cell_type": "code",
   "execution_count": 411,
   "metadata": {},
   "outputs": [],
   "source": [
    "DIMENSION = 400\n",
    "words=[]\n",
    "for index,row in news.iterrows():\n",
    "    words.append(row['preprocessed_text'].split())\n"
   ]
  },
  {
   "cell_type": "code",
   "execution_count": 412,
   "metadata": {},
   "outputs": [],
   "source": [
    "w2v_model = Word2Vec(sentences,sg=1,iter=10,size=DIMENSION)"
   ]
  },
  {
   "cell_type": "code",
   "execution_count": 413,
   "metadata": {},
   "outputs": [
    {
     "data": {
      "text/html": [
       "<div>\n",
       "<style scoped>\n",
       "    .dataframe tbody tr th:only-of-type {\n",
       "        vertical-align: middle;\n",
       "    }\n",
       "\n",
       "    .dataframe tbody tr th {\n",
       "        vertical-align: top;\n",
       "    }\n",
       "\n",
       "    .dataframe thead th {\n",
       "        text-align: right;\n",
       "    }\n",
       "</style>\n",
       "<table border=\"1\" class=\"dataframe\">\n",
       "  <thead>\n",
       "    <tr style=\"text-align: right;\">\n",
       "      <th></th>\n",
       "      <th>subject</th>\n",
       "      <th>text</th>\n",
       "      <th>preprocessed_text</th>\n",
       "      <th>w2v_vector</th>\n",
       "    </tr>\n",
       "  </thead>\n",
       "  <tbody>\n",
       "    <tr>\n",
       "      <th>0</th>\n",
       "      <td>tech</td>\n",
       "      <td>Ink helps drive democracy in Asia\\n\\nThe Kyrgy...</td>\n",
       "      <td>ink help drive democraci asia kyrgyz republ sm...</td>\n",
       "      <td>[2.1873430125415325, -3.742327094078064, 0.398...</td>\n",
       "    </tr>\n",
       "    <tr>\n",
       "      <th>1</th>\n",
       "      <td>sport</td>\n",
       "      <td>Claxton hunting first major medal\\n\\nBritish h...</td>\n",
       "      <td>claxton hunt first major medal british hurdler...</td>\n",
       "      <td>[1.1513792844489217, -1.764814155176282, 0.173...</td>\n",
       "    </tr>\n",
       "    <tr>\n",
       "      <th>2</th>\n",
       "      <td>politics</td>\n",
       "      <td>Labour plans maternity pay rise\\n\\nMaternity p...</td>\n",
       "      <td>labour plan matern pay rise matern pay new mot...</td>\n",
       "      <td>[2.2842488707974553, -4.026486404240131, 0.583...</td>\n",
       "    </tr>\n",
       "    <tr>\n",
       "      <th>3</th>\n",
       "      <td>entertainment</td>\n",
       "      <td>Gallery unveils interactive tree\\n\\nA Christma...</td>\n",
       "      <td>galleri unveil interact tree christma tree rec...</td>\n",
       "      <td>[0.33001931942999363, -0.4986467994749546, 0.0...</td>\n",
       "    </tr>\n",
       "    <tr>\n",
       "      <th>4</th>\n",
       "      <td>business</td>\n",
       "      <td>Ad sales boost Time Warner profit\\n\\nQuarterly...</td>\n",
       "      <td>ad sale boost time warner profit quarterli pro...</td>\n",
       "      <td>[2.102793681435287, -3.3406780790537596, 0.291...</td>\n",
       "    </tr>\n",
       "  </tbody>\n",
       "</table>\n",
       "</div>"
      ],
      "text/plain": [
       "         subject                                               text  \\\n",
       "0           tech  Ink helps drive democracy in Asia\\n\\nThe Kyrgy...   \n",
       "1          sport  Claxton hunting first major medal\\n\\nBritish h...   \n",
       "2       politics  Labour plans maternity pay rise\\n\\nMaternity p...   \n",
       "3  entertainment  Gallery unveils interactive tree\\n\\nA Christma...   \n",
       "4       business  Ad sales boost Time Warner profit\\n\\nQuarterly...   \n",
       "\n",
       "                                   preprocessed_text  \\\n",
       "0  ink help drive democraci asia kyrgyz republ sm...   \n",
       "1  claxton hunt first major medal british hurdler...   \n",
       "2  labour plan matern pay rise matern pay new mot...   \n",
       "3  galleri unveil interact tree christma tree rec...   \n",
       "4  ad sale boost time warner profit quarterli pro...   \n",
       "\n",
       "                                          w2v_vector  \n",
       "0  [2.1873430125415325, -3.742327094078064, 0.398...  \n",
       "1  [1.1513792844489217, -1.764814155176282, 0.173...  \n",
       "2  [2.2842488707974553, -4.026486404240131, 0.583...  \n",
       "3  [0.33001931942999363, -0.4986467994749546, 0.0...  \n",
       "4  [2.102793681435287, -3.3406780790537596, 0.291...  "
      ]
     },
     "execution_count": 413,
     "metadata": {},
     "output_type": "execute_result"
    }
   ],
   "source": [
    "news['w2v_vector'] = pd.Series(np.zeros((news.shape[0])), index=news.index)\n",
    "b=[]\n",
    "\n",
    "for index, row in news.iterrows():\n",
    "    a=np.zeros(DIMENSION)\n",
    "    for word in row['preprocessed_text'].split():\n",
    "        try:\n",
    "            a = a  + w2v_model.wv[word]\n",
    "        except:\n",
    "            pass\n",
    "    b.append(a)\n",
    "\n",
    "news['w2v_vector']=b\n",
    "news.head()"
   ]
  },
  {
   "cell_type": "code",
   "execution_count": 414,
   "metadata": {},
   "outputs": [],
   "source": [
    "b_normal=normalize(b)\n",
    "pca = PCA(n_components=2,whiten=True)\n",
    "c_pca = pca.fit_transform(pd.DataFrame(b_normal))\n",
    "\n"
   ]
  },
  {
   "cell_type": "code",
   "execution_count": 473,
   "metadata": {},
   "outputs": [
    {
     "data": {
      "image/png": "[encoded data removed]",
      "text/plain": [
       "<Figure size 504x288 with 1 Axes>"
      ]
     },
     "metadata": {
      "needs_background": "light"
     },
     "output_type": "display_data"
    }
   ],
   "source": [
    "def show_original(news):\n",
    "    fig,ax = plt.subplots(1,1,figsize=(7,4))\n",
    "    for index, row in news.iterrows():\n",
    "        if row['subject']=='sport':\n",
    "            plt.scatter(c_pca[index][0],c_pca[index][1],color='red')\n",
    "        elif row['subject']=='politics':\n",
    "            plt.scatter(c_pca[index][0],c_pca[index][1],color='blue')\n",
    "        elif row['subject']=='tech':\n",
    "            plt.scatter(c_pca[index][0],c_pca[index][1],color='green')\n",
    "        elif row['subject']=='entertainment':\n",
    "            plt.scatter(c_pca[index][0],c_pca[index][1],color='yellow')\n",
    "        elif row['subject']=='business':\n",
    "            plt.scatter(c_pca[index][0],c_pca[index][1],color='black')\n",
    "    plt.legend(['tech', 'sport', 'politics', 'entertainment', 'business'])\n",
    "    plt.show()\n",
    "show_original(news)\n"
   ]
  },
  {
   "cell_type": "code",
   "execution_count": 419,
   "metadata": {},
   "outputs": [],
   "source": [
    "def get_w2v_top_similar_docs(data,text_vectors, index, k):\n",
    "    data_res= data\n",
    "    data_res['cosine'] = pd.Series(np.zeros(data_res.shape[0]), index=data_res.index)\n",
    "\n",
    "    #package = data_res.loc[data_res['package_name']==package_name]\n",
    "    comparing_vec = text_vectors[index]\n",
    "\n",
    "    for index, row in data_res.iterrows():\n",
    "        data_res.loc[index,'cosine']=(cosine_similarity(comparing_vec.reshape(1, -1),row['w2v_vector'].reshape(1, -1))[0])\n",
    "#        pass-\n",
    "    return data_res.nlargest(k, 'cosine')\n"
   ]
  },
  {
   "cell_type": "code",
   "execution_count": 420,
   "metadata": {},
   "outputs": [
    {
     "data": {
      "text/html": [
       "<div>\n",
       "<style scoped>\n",
       "    .dataframe tbody tr th:only-of-type {\n",
       "        vertical-align: middle;\n",
       "    }\n",
       "\n",
       "    .dataframe tbody tr th {\n",
       "        vertical-align: top;\n",
       "    }\n",
       "\n",
       "    .dataframe thead th {\n",
       "        text-align: right;\n",
       "    }\n",
       "</style>\n",
       "<table border=\"1\" class=\"dataframe\">\n",
       "  <thead>\n",
       "    <tr style=\"text-align: right;\">\n",
       "      <th></th>\n",
       "      <th>subject</th>\n",
       "      <th>text</th>\n",
       "      <th>preprocessed_text</th>\n",
       "      <th>w2v_vector</th>\n",
       "      <th>cosine</th>\n",
       "    </tr>\n",
       "  </thead>\n",
       "  <tbody>\n",
       "    <tr>\n",
       "      <th>1</th>\n",
       "      <td>sport</td>\n",
       "      <td>Claxton hunting first major medal\\n\\nBritish h...</td>\n",
       "      <td>claxton hunt first major medal british hurdler...</td>\n",
       "      <td>[1.1513792844489217, -1.764814155176282, 0.173...</td>\n",
       "      <td>1.000000</td>\n",
       "    </tr>\n",
       "    <tr>\n",
       "      <th>326</th>\n",
       "      <td>sport</td>\n",
       "      <td>Britain boosted by Holmes double\\n\\nAthletics ...</td>\n",
       "      <td>britain boost holm doubl athlet fan endur year...</td>\n",
       "      <td>[3.0996998250484467, -4.666481111198664, 0.475...</td>\n",
       "      <td>0.999989</td>\n",
       "    </tr>\n",
       "    <tr>\n",
       "      <th>296</th>\n",
       "      <td>sport</td>\n",
       "      <td>McIlroy wins 800m indoor title\\n\\nJames McIlro...</td>\n",
       "      <td>mcilroy win 800m indoor titl jame mcilroy moto...</td>\n",
       "      <td>[1.6907885549589992, -2.573329109698534, 0.226...</td>\n",
       "      <td>0.999981</td>\n",
       "    </tr>\n",
       "    <tr>\n",
       "      <th>116</th>\n",
       "      <td>sport</td>\n",
       "      <td>Chepkemei joins Edinburgh line-up\\n\\nSusan Che...</td>\n",
       "      <td>chepkemei join edinburgh line susan chepkemei ...</td>\n",
       "      <td>[0.634660447947681, -0.9694827198982239, 0.092...</td>\n",
       "      <td>0.999981</td>\n",
       "    </tr>\n",
       "    <tr>\n",
       "      <th>371</th>\n",
       "      <td>sport</td>\n",
       "      <td>Gardener wins double in Glasgow\\n\\nBritain's J...</td>\n",
       "      <td>garden win doubl glasgow britain jason garden ...</td>\n",
       "      <td>[2.434654830954969, -3.6517512183636427, 0.312...</td>\n",
       "      <td>0.999978</td>\n",
       "    </tr>\n",
       "  </tbody>\n",
       "</table>\n",
       "</div>"
      ],
      "text/plain": [
       "    subject                                               text  \\\n",
       "1     sport  Claxton hunting first major medal\\n\\nBritish h...   \n",
       "326   sport  Britain boosted by Holmes double\\n\\nAthletics ...   \n",
       "296   sport  McIlroy wins 800m indoor title\\n\\nJames McIlro...   \n",
       "116   sport  Chepkemei joins Edinburgh line-up\\n\\nSusan Che...   \n",
       "371   sport  Gardener wins double in Glasgow\\n\\nBritain's J...   \n",
       "\n",
       "                                     preprocessed_text  \\\n",
       "1    claxton hunt first major medal british hurdler...   \n",
       "326  britain boost holm doubl athlet fan endur year...   \n",
       "296  mcilroy win 800m indoor titl jame mcilroy moto...   \n",
       "116  chepkemei join edinburgh line susan chepkemei ...   \n",
       "371  garden win doubl glasgow britain jason garden ...   \n",
       "\n",
       "                                            w2v_vector    cosine  \n",
       "1    [1.1513792844489217, -1.764814155176282, 0.173...  1.000000  \n",
       "326  [3.0996998250484467, -4.666481111198664, 0.475...  0.999989  \n",
       "296  [1.6907885549589992, -2.573329109698534, 0.226...  0.999981  \n",
       "116  [0.634660447947681, -0.9694827198982239, 0.092...  0.999981  \n",
       "371  [2.434654830954969, -3.6517512183636427, 0.312...  0.999978  "
      ]
     },
     "execution_count": 420,
     "metadata": {},
     "output_type": "execute_result"
    }
   ],
   "source": [
    "examples_df = get_w2v_top_similar_docs(news, b, index=1, k=5)\n",
    "examples_df.head(10)"
   ]
  },
  {
   "cell_type": "code",
   "execution_count": 435,
   "metadata": {},
   "outputs": [
    {
     "name": "stdout",
     "output_type": "stream",
     "text": [
      "[[ 0.01509132 -0.02566833  0.00306027 ...  0.03358203 -0.04075921\n",
      "  -0.03034826]\n",
      " [ 0.01556082 -0.02438473  0.00201269 ...  0.03293536 -0.04152327\n",
      "  -0.02838324]\n",
      " [ 0.01491614 -0.02638457  0.00363723 ...  0.03385124 -0.04009956\n",
      "  -0.03131428]\n",
      " [ 0.01523871 -0.02505541  0.00263601 ...  0.03327383 -0.0412459\n",
      "  -0.02949939]\n",
      " [ 0.01598976 -0.023555    0.00130815 ...  0.03272336 -0.04141112\n",
      "  -0.02626689]]\n"
     ]
    }
   ],
   "source": [
    "km = KMeans(n_clusters=5)\n",
    "km.fit(b_normal)\n",
    "print(km.cluster_centers_)"
   ]
  },
  {
   "cell_type": "code",
   "execution_count": 474,
   "metadata": {},
   "outputs": [],
   "source": [
    "def show_clustered(data,km):\n",
    "    fig,ax = plt.subplots(1,1,figsize=(7,4))\n",
    "    c=[]\n",
    "    pca = PCA(n_components=2,whiten=True)\n",
    "    for i in range(len(data)):\n",
    "        #print(data[i])\n",
    "        c.append(km.predict(data[i].reshape(1,-1))[0])\n",
    "\n",
    "    X = pca.fit_transform(pd.DataFrame(data))\n",
    "    #print(X.shape)\n",
    "    for index in range(X.shape[0]):\n",
    "        if c[index] ==0:\n",
    "            plt.scatter(X[index][0],X[index][1],color='red')\n",
    "        elif c[index] ==1:\n",
    "            plt.scatter(X[index][0],X[index][1],color='blue')\n",
    "        elif c[index] ==2:\n",
    "            plt.scatter(X[index][0],X[index][1],color='green')\n",
    "        elif c[index] ==3:\n",
    "            plt.scatter(X[index][0],X[index][1],color='yellow')\n",
    "        elif c[index] ==4:\n",
    "            plt.scatter(X[index][0],X[index][1],color='black')\n",
    "    plt.show()\n",
    "    return c"
   ]
  },
  {
   "cell_type": "code",
   "execution_count": 475,
   "metadata": {},
   "outputs": [
    {
     "data": {
      "image/png": "[encoded data removed]",
      "text/plain": [
       "<Figure size 504x288 with 1 Axes>"
      ]
     },
     "metadata": {
      "needs_background": "light"
     },
     "output_type": "display_data"
    },
    {
     "data": {
      "image/png": "[encoded data removed]",
      "text/plain": [
       "<Figure size 504x288 with 1 Axes>"
      ]
     },
     "metadata": {
      "needs_background": "light"
     },
     "output_type": "display_data"
    }
   ],
   "source": [
    "#print(b)\n",
    "c=show_clustered(b_normal,km)\n",
    "show_original(news)\n",
    "news['label']=c[:]\n",
    "#for i in range(len(c)):\n"
   ]
  },
  {
   "cell_type": "code",
   "execution_count": 465,
   "metadata": {},
   "outputs": [
    {
     "data": {
      "text/html": [
       "<div>\n",
       "<style scoped>\n",
       "    .dataframe tbody tr th:only-of-type {\n",
       "        vertical-align: middle;\n",
       "    }\n",
       "\n",
       "    .dataframe tbody tr th {\n",
       "        vertical-align: top;\n",
       "    }\n",
       "\n",
       "    .dataframe thead th {\n",
       "        text-align: right;\n",
       "    }\n",
       "</style>\n",
       "<table border=\"1\" class=\"dataframe\">\n",
       "  <thead>\n",
       "    <tr style=\"text-align: right;\">\n",
       "      <th></th>\n",
       "      <th>subject</th>\n",
       "      <th>text</th>\n",
       "      <th>preprocessed_text</th>\n",
       "      <th>w2v_vector</th>\n",
       "      <th>cosine</th>\n",
       "      <th>label</th>\n",
       "    </tr>\n",
       "  </thead>\n",
       "  <tbody>\n",
       "    <tr>\n",
       "      <th>0</th>\n",
       "      <td>tech</td>\n",
       "      <td>Ink helps drive democracy in Asia\\n\\nThe Kyrgy...</td>\n",
       "      <td>ink help drive democraci asia kyrgyz republ sm...</td>\n",
       "      <td>[2.1873430125415325, -3.742327094078064, 0.398...</td>\n",
       "      <td>0.998908</td>\n",
       "      <td>3</td>\n",
       "    </tr>\n",
       "    <tr>\n",
       "      <th>1</th>\n",
       "      <td>sport</td>\n",
       "      <td>Claxton hunting first major medal\\n\\nBritish h...</td>\n",
       "      <td>claxton hunt first major medal british hurdler...</td>\n",
       "      <td>[1.1513792844489217, -1.764814155176282, 0.173...</td>\n",
       "      <td>1.000000</td>\n",
       "      <td>4</td>\n",
       "    </tr>\n",
       "    <tr>\n",
       "      <th>2</th>\n",
       "      <td>politics</td>\n",
       "      <td>Labour plans maternity pay rise\\n\\nMaternity p...</td>\n",
       "      <td>labour plan matern pay rise matern pay new mot...</td>\n",
       "      <td>[2.2842488707974553, -4.026486404240131, 0.583...</td>\n",
       "      <td>0.998983</td>\n",
       "      <td>2</td>\n",
       "    </tr>\n",
       "    <tr>\n",
       "      <th>3</th>\n",
       "      <td>entertainment</td>\n",
       "      <td>Gallery unveils interactive tree\\n\\nA Christma...</td>\n",
       "      <td>galleri unveil interact tree christma tree rec...</td>\n",
       "      <td>[0.33001931942999363, -0.4986467994749546, 0.0...</td>\n",
       "      <td>0.999638</td>\n",
       "      <td>1</td>\n",
       "    </tr>\n",
       "    <tr>\n",
       "      <th>4</th>\n",
       "      <td>business</td>\n",
       "      <td>Ad sales boost Time Warner profit\\n\\nQuarterly...</td>\n",
       "      <td>ad sale boost time warner profit quarterli pro...</td>\n",
       "      <td>[2.102793681435287, -3.3406780790537596, 0.291...</td>\n",
       "      <td>0.999729</td>\n",
       "      <td>1</td>\n",
       "    </tr>\n",
       "    <tr>\n",
       "      <th>5</th>\n",
       "      <td>tech</td>\n",
       "      <td>China net cafe culture crackdown\\n\\nChinese au...</td>\n",
       "      <td>china net cafe cultur crackdown chines author ...</td>\n",
       "      <td>[1.686241920106113, -2.7757300920784473, 0.193...</td>\n",
       "      <td>0.999516</td>\n",
       "      <td>3</td>\n",
       "    </tr>\n",
       "    <tr>\n",
       "      <th>6</th>\n",
       "      <td>sport</td>\n",
       "      <td>O'Sullivan could run in Worlds\\n\\nSonia O'Sull...</td>\n",
       "      <td>sullivan could run world sonia sullivan ha ind...</td>\n",
       "      <td>[0.7112881131470203, -1.1051587872207165, 0.12...</td>\n",
       "      <td>0.999933</td>\n",
       "      <td>1</td>\n",
       "    </tr>\n",
       "    <tr>\n",
       "      <th>7</th>\n",
       "      <td>politics</td>\n",
       "      <td>Watchdog probes e-mail deletions\\n\\nThe inform...</td>\n",
       "      <td>watchdog probe e mail delet inform commission ...</td>\n",
       "      <td>[1.2324122609570622, -2.0906542036682367, 0.21...</td>\n",
       "      <td>0.999397</td>\n",
       "      <td>0</td>\n",
       "    </tr>\n",
       "    <tr>\n",
       "      <th>8</th>\n",
       "      <td>entertainment</td>\n",
       "      <td>Jarre joins fairytale celebration\\n\\nFrench mu...</td>\n",
       "      <td>jarr join fairytal celebr french musician jean...</td>\n",
       "      <td>[0.685398556292057, -1.0924330055713654, 0.080...</td>\n",
       "      <td>0.999820</td>\n",
       "      <td>1</td>\n",
       "    </tr>\n",
       "    <tr>\n",
       "      <th>9</th>\n",
       "      <td>business</td>\n",
       "      <td>Dollar gains on Greenspan speech\\n\\nThe dollar...</td>\n",
       "      <td>dollar gain greenspan speech dollar ha hit hig...</td>\n",
       "      <td>[2.1097914446145296, -3.4766247998923063, 0.40...</td>\n",
       "      <td>0.999663</td>\n",
       "      <td>3</td>\n",
       "    </tr>\n",
       "  </tbody>\n",
       "</table>\n",
       "</div>"
      ],
      "text/plain": [
       "         subject                                               text  \\\n",
       "0           tech  Ink helps drive democracy in Asia\\n\\nThe Kyrgy...   \n",
       "1          sport  Claxton hunting first major medal\\n\\nBritish h...   \n",
       "2       politics  Labour plans maternity pay rise\\n\\nMaternity p...   \n",
       "3  entertainment  Gallery unveils interactive tree\\n\\nA Christma...   \n",
       "4       business  Ad sales boost Time Warner profit\\n\\nQuarterly...   \n",
       "5           tech  China net cafe culture crackdown\\n\\nChinese au...   \n",
       "6          sport  O'Sullivan could run in Worlds\\n\\nSonia O'Sull...   \n",
       "7       politics  Watchdog probes e-mail deletions\\n\\nThe inform...   \n",
       "8  entertainment  Jarre joins fairytale celebration\\n\\nFrench mu...   \n",
       "9       business  Dollar gains on Greenspan speech\\n\\nThe dollar...   \n",
       "\n",
       "                                   preprocessed_text  \\\n",
       "0  ink help drive democraci asia kyrgyz republ sm...   \n",
       "1  claxton hunt first major medal british hurdler...   \n",
       "2  labour plan matern pay rise matern pay new mot...   \n",
       "3  galleri unveil interact tree christma tree rec...   \n",
       "4  ad sale boost time warner profit quarterli pro...   \n",
       "5  china net cafe cultur crackdown chines author ...   \n",
       "6  sullivan could run world sonia sullivan ha ind...   \n",
       "7  watchdog probe e mail delet inform commission ...   \n",
       "8  jarr join fairytal celebr french musician jean...   \n",
       "9  dollar gain greenspan speech dollar ha hit hig...   \n",
       "\n",
       "                                          w2v_vector    cosine  label  \n",
       "0  [2.1873430125415325, -3.742327094078064, 0.398...  0.998908      3  \n",
       "1  [1.1513792844489217, -1.764814155176282, 0.173...  1.000000      4  \n",
       "2  [2.2842488707974553, -4.026486404240131, 0.583...  0.998983      2  \n",
       "3  [0.33001931942999363, -0.4986467994749546, 0.0...  0.999638      1  \n",
       "4  [2.102793681435287, -3.3406780790537596, 0.291...  0.999729      1  \n",
       "5  [1.686241920106113, -2.7757300920784473, 0.193...  0.999516      3  \n",
       "6  [0.7112881131470203, -1.1051587872207165, 0.12...  0.999933      1  \n",
       "7  [1.2324122609570622, -2.0906542036682367, 0.21...  0.999397      0  \n",
       "8  [0.685398556292057, -1.0924330055713654, 0.080...  0.999820      1  \n",
       "9  [2.1097914446145296, -3.4766247998923063, 0.40...  0.999663      3  "
      ]
     },
     "execution_count": 465,
     "metadata": {},
     "output_type": "execute_result"
    }
   ],
   "source": [
    "news.head(10)"
   ]
  },
  {
   "cell_type": "code",
   "execution_count": 466,
   "metadata": {},
   "outputs": [
    {
     "name": "stdout",
     "output_type": "stream",
     "text": [
      "          subject  label    c\n",
      "0        business      3  233\n",
      "1        politics      2  220\n",
      "2            tech      0  182\n",
      "3   entertainment      1  163\n",
      "4           sport      3  151\n",
      "5            tech      3  147\n",
      "6        politics      0  140\n",
      "7           sport      0  137\n",
      "8        business      0  132\n",
      "9           sport      1  100\n",
      "10       business      1   98\n",
      "11  entertainment      3   77\n",
      "12          sport      2   68\n",
      "13  entertainment      4   66\n",
      "14  entertainment      0   65\n",
      "15       politics      3   51\n",
      "16           tech      2   47\n",
      "17          sport      4   43\n",
      "18       business      2   36\n",
      "19           tech      1   22\n",
      "20  entertainment      2   15\n",
      "21       politics      1    6\n",
      "22           tech      4    3\n"
     ]
    }
   ],
   "source": [
    "query=\"\"\"SELECT subject,label,count(*) c FROM news group by subject,label order by c DESC\"\"\"\n",
    "\n",
    "print(ps.sqldf(query, locals()))\n"
   ]
  },
  {
   "cell_type": "code",
   "execution_count": null,
   "metadata": {},
   "outputs": [],
   "source": []
  }
 ],
 "metadata": {
  "kernelspec": {
   "display_name": "Python 3",
   "language": "python",
   "name": "python3"
  },
  "language_info": {
   "codemirror_mode": {
    "name": "ipython",
    "version": 3
   },
   "file_extension": ".py",
   "mimetype": "text/x-python",
   "name": "python",
   "nbconvert_exporter": "python",
   "pygments_lexer": "ipython3",
   "version": "3.6.8"
  }
 },
 "nbformat": 4,
 "nbformat_minor": 2
}
