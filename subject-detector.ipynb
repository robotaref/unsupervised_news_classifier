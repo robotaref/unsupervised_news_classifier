{
 "cells": [
  {
   "cell_type": "markdown",
   "metadata": {},
   "source": [
    "# بسم الله الرحمن الرحیم"
   ]
  },
  {
   "cell_type": "markdown",
   "metadata": {},
   "source": [
    "در ابتدا هر کتاب خانه ای که نیاز بوده را منتقل کرده ام."
   ]
  },
  {
   "cell_type": "code",
   "execution_count": 1,
   "metadata": {},
   "outputs": [],
   "source": [
    "import pandas as pd\n",
    "from gensim.models import Word2Vec\n",
    "import numpy as np\n",
    "from sklearn.decomposition import PCA,NMF\n",
    "import matplotlib.pyplot as plt\n",
    "from nltk import  stem, word_tokenize,download\n",
    "from mpl_toolkits.mplot3d import Axes3D\n",
    "from sklearn.preprocessing import normalize\n",
    "from sklearn.metrics.pairwise import cosine_similarity\n",
    "from sklearn.cluster import KMeans\n",
    "import pandasql as ps\n",
    "from nltk import  stem, word_tokenize\n",
    "from nltk.corpus import stopwords\n",
    "from bs4 import BeautifulSoup\n",
    "import codecs\n",
    "import re"
   ]
  },
  {
   "cell_type": "markdown",
   "metadata": {},
   "source": [
    "دو قسمت از کتابخانه ی پردازش زبان طبیعی ممکن است نیاز به دانلود داشته باشد"
   ]
  },
  {
   "cell_type": "code",
   "execution_count": 2,
   "metadata": {},
   "outputs": [
    {
     "name": "stderr",
     "output_type": "stream",
     "text": [
      "[nltk_data] Downloading package punkt to\n",
      "[nltk_data]     /Users/arefghodamai/nltk_data...\n",
      "[nltk_data]   Package punkt is already up-to-date!\n",
      "[nltk_data] Downloading package stopwords to\n",
      "[nltk_data]     /Users/arefghodamai/nltk_data...\n",
      "[nltk_data]   Package stopwords is already up-to-date!\n"
     ]
    },
    {
     "data": {
      "text/plain": [
       "True"
      ]
     },
     "execution_count": 2,
     "metadata": {},
     "output_type": "execute_result"
    }
   ],
   "source": [
    "download('punkt')\n",
    "download('stopwords')\n"
   ]
  },
  {
   "cell_type": "markdown",
   "metadata": {},
   "source": [
    "متن های داده شده را میخوانیم"
   ]
  },
  {
   "cell_type": "code",
   "execution_count": 3,
   "metadata": {},
   "outputs": [],
   "source": [
    "subjects=['tech','sport','politics','entertainment','business']\n",
    "news=pd.DataFrame(columns=['subject','text'])\n",
    "n_samples=500\n",
    "for i in range(1,n_samples):\n",
    "    for sub in subjects:\n",
    "        try:\n",
    "            file_name='bbc-raw/'+sub+'/'+str(i).zfill(3)+'.txt'\n",
    "            #print(file_name)\n",
    "            text_file=open(file_name)\n",
    "            n={'subject':sub,'text':text_file.read()}\n",
    "            news=news.append(n, ignore_index=True )\n",
    "        except:\n",
    "            pass"
   ]
  },
  {
   "cell_type": "code",
   "execution_count": 4,
   "metadata": {},
   "outputs": [
    {
     "data": {
      "text/html": [
       "<div>\n",
       "<style scoped>\n",
       "    .dataframe tbody tr th:only-of-type {\n",
       "        vertical-align: middle;\n",
       "    }\n",
       "\n",
       "    .dataframe tbody tr th {\n",
       "        vertical-align: top;\n",
       "    }\n",
       "\n",
       "    .dataframe thead th {\n",
       "        text-align: right;\n",
       "    }\n",
       "</style>\n",
       "<table border=\"1\" class=\"dataframe\">\n",
       "  <thead>\n",
       "    <tr style=\"text-align: right;\">\n",
       "      <th></th>\n",
       "      <th>subject</th>\n",
       "      <th>text</th>\n",
       "    </tr>\n",
       "  </thead>\n",
       "  <tbody>\n",
       "    <tr>\n",
       "      <th>0</th>\n",
       "      <td>tech</td>\n",
       "      <td>Ink helps drive democracy in Asia\\n\\nThe Kyrgy...</td>\n",
       "    </tr>\n",
       "    <tr>\n",
       "      <th>1</th>\n",
       "      <td>sport</td>\n",
       "      <td>Claxton hunting first major medal\\n\\nBritish h...</td>\n",
       "    </tr>\n",
       "    <tr>\n",
       "      <th>2</th>\n",
       "      <td>politics</td>\n",
       "      <td>Labour plans maternity pay rise\\n\\nMaternity p...</td>\n",
       "    </tr>\n",
       "    <tr>\n",
       "      <th>3</th>\n",
       "      <td>entertainment</td>\n",
       "      <td>Gallery unveils interactive tree\\n\\nA Christma...</td>\n",
       "    </tr>\n",
       "    <tr>\n",
       "      <th>4</th>\n",
       "      <td>business</td>\n",
       "      <td>Ad sales boost Time Warner profit\\n\\nQuarterly...</td>\n",
       "    </tr>\n",
       "  </tbody>\n",
       "</table>\n",
       "</div>"
      ],
      "text/plain": [
       "         subject                                               text\n",
       "0           tech  Ink helps drive democracy in Asia\\n\\nThe Kyrgy...\n",
       "1          sport  Claxton hunting first major medal\\n\\nBritish h...\n",
       "2       politics  Labour plans maternity pay rise\\n\\nMaternity p...\n",
       "3  entertainment  Gallery unveils interactive tree\\n\\nA Christma...\n",
       "4       business  Ad sales boost Time Warner profit\\n\\nQuarterly..."
      ]
     },
     "execution_count": 4,
     "metadata": {},
     "output_type": "execute_result"
    }
   ],
   "source": [
    "news.head()"
   ]
  },
  {
   "cell_type": "markdown",
   "metadata": {},
   "source": [
    "حال نیاز به پیش پردازش داده ها داریم. ابتدا به کمک رجکس، چیزهایی از قبیل ایمیل، اسامی سایت و کاراکترهای نامربوط را حذف می کنیم. \n",
    "سپس به کمک کتابخانه ی\n",
    "\n",
    "BeautifulSoup \n",
    "\n",
    "فرمت های اچ تی ام ال را حذف می کنیم،و با کمک ابزارهای پردازش زبان طبیعی، کلمات اضافه را حذف می کنیم."
   ]
  },
  {
   "cell_type": "code",
   "execution_count": 5,
   "metadata": {},
   "outputs": [],
   "source": [
    "compile_patterns = lambda patterns: [(re.compile(pattern), repl) for pattern, repl in patterns]\n",
    "\n",
    "class PreprocessDescription(object):\n",
    "    def __init__(self, lemmatizer_params, tokenizer_params):\n",
    "        self.lemmatizer = stem.PorterStemmer(**lemmatizer_params)\n",
    "        \n",
    "        junk_chars_regex=r'[^a-zA-Z0-9\\u0621-\\u06CC\\u0698\\u067E\\u0686\\u06AF \\u200c]'\n",
    "        url_regex = r\"\"\"(?i)\\b((?:[a-z][\\w-]+:(?:/{1,3}|[a-z0-9%])|www\\d{0,3}[.]|[a-z0-9.\\-]+[.][a-z]{2,4}/)(?:[^\\s()<>]+|\\(([^\\s()<>]+|(\\([^\\s()<>]+\\)))*\\))+(?:\\(([^\\s()<>]+|(\\([^\\s()<>]+\\)))*\\)|[^\\s`!()\\[\\]{};:\\'\\\".,<>?«»“”‘’]))\"\"\"\n",
    "        RFC_5322_COMPLIANT_EMAIL_REGEX = r\"(^[a-zA-Z0-9_.+-]+@[a-zA-Z0-9-]+\\.[a-zA-Z0-9-.]+$)\"\n",
    "        \n",
    "        remove_url=(url_regex, ' ')\n",
    "        remove_email=(RFC_5322_COMPLIANT_EMAIL_REGEX, ' ')\n",
    "        remove_junk_characters=(junk_chars_regex, ' ')\n",
    "        self.compiled_patterns_before = compile_patterns([remove_url,remove_email])\n",
    "        self.compiled_patterns_after = compile_patterns([remove_junk_characters])\n",
    "        self.stopwords=set(stopwords.words('english'))\n",
    "        \n",
    "    def preprocess(self, text):\n",
    "        # html parser\n",
    "        soup = BeautifulSoup(text, 'html.parser')\n",
    "        for br in soup.find_all(\"br\"):\n",
    "            br.replace_with(\"\\n \")\n",
    "        text = soup.getText()\n",
    "        text = text.lower()\n",
    "        for pattern, repl in self.compiled_patterns_before:\n",
    "            text = pattern.sub(repl, text)\n",
    "        text = re.sub(r'[\\u200c\\s]*\\s[\\s\\u200c]*', ' ', text)\n",
    "        text = re.sub(r'[\\u200c]+', '\\u200c', text)\n",
    "        \n",
    "        for pattern, repl in self.compiled_patterns_after:\n",
    "            text = pattern.sub(repl, text)\n",
    "            \n",
    "        ## tokenized_words\n",
    "        tokenized_words = word_tokenize(text)\n",
    "        ## lemmatized_data\n",
    "        lemmatized_words = [self.lemmatizer.stem(word) for word in tokenized_words]\n",
    "        lemmatized_witout_stopwords = [word for word in lemmatized_words if word not in self.stopwords]\n",
    "        return lemmatized_witout_stopwords"
   ]
  },
  {
   "cell_type": "markdown",
   "metadata": {},
   "source": [
    "نمونه ای از کلمات اضافه:"
   ]
  },
  {
   "cell_type": "code",
   "execution_count": 6,
   "metadata": {},
   "outputs": [
    {
     "name": "stdout",
     "output_type": "stream",
     "text": [
      "{'your', 'when', 'it', \"hadn't\", 'very', 'we', 'y', 'themselves', 'only', 'them', 'i', 'of', 'under', 'there', 'hasn', 'yourself', 'over', 'or', 'should', 'myself', 'll', 'being', 'after', \"you'd\", 'his', 'what', 'so', 'm', 'here', 'not', 'will', \"won't\", 'some', 's', 'by', 'any', 'don', 'an', 'aren', \"wouldn't\", \"haven't\", 'do', 'in', 'off', 'wouldn', 'who', 'yours', 'which', 'other', 'didn', 'shouldn', 'is', 'did', \"you're\", 'having', 'between', \"needn't\", 'shan', 'their', 'down', \"weren't\", \"you'll\", 'was', \"didn't\", 'whom', 're', 'against', 'into', 'while', 'doing', 'isn', 'the', 've', 'has', 'to', 'doesn', \"hasn't\", 'he', 'couldn', 'they', \"it's\", 'haven', 'himself', 'our', 'can', 'nor', 'were', 'ourselves', 'herself', 'own', 'had', 'hadn', 'have', 'below', 'she', 'because', 'wasn', 'won', \"couldn't\", 'those', \"wasn't\", 'most', \"mustn't\", 'if', 'during', 'same', 'where', 'on', 'again', \"don't\", 'yourselves', 'ours', 'through', 'am', 'up', 'how', 'me', \"that'll\", 'why', 'these', 'does', 'from', \"you've\", 'are', \"she's\", 'once', 'its', 'been', 'than', 'each', \"doesn't\", 'too', \"should've\", 'about', 'but', 'itself', 'be', 'until', 'hers', 'more', 't', \"shan't\", 'few', 'a', 'then', 'that', 'd', 'with', 'above', 'ain', 'all', 'you', \"mightn't\", 'needn', \"shouldn't\", 'him', 'mustn', 'and', 'o', 'such', 'mightn', 'just', 'this', 'at', 'now', \"isn't\", 'out', 'before', 'both', 'ma', 'my', 'her', \"aren't\", 'weren', 'further', 'as', 'for', 'theirs', 'no'}\n"
     ]
    }
   ],
   "source": [
    "stop=set(stopwords.words('english'))\n",
    "print(stop)"
   ]
  },
  {
   "cell_type": "code",
   "execution_count": 7,
   "metadata": {},
   "outputs": [],
   "source": [
    "preprocessDesc = PreprocessDescription(lemmatizer_params={},tokenizer_params={})"
   ]
  },
  {
   "cell_type": "markdown",
   "metadata": {},
   "source": [
    "حال این پیش پردازش را برای تمامی متن های اخبار اجرا می کنیم و زمان لازم برای اجرا را اندازه گیری می کنیم."
   ]
  },
  {
   "cell_type": "code",
   "execution_count": 8,
   "metadata": {},
   "outputs": [
    {
     "name": "stdout",
     "output_type": "stream",
     "text": [
      "20.62487006187439\n"
     ]
    }
   ],
   "source": [
    "import time\n",
    "start = time.time()\n",
    "preprocessed_text = []\n",
    "\n",
    "for index, row in news.iterrows():\n",
    "    res = preprocessDesc.preprocess(row['text'])\n",
    "    preprocessed_text.append(\" \".join(res))\n",
    "    \n",
    "news['preprocessed_text']=preprocessed_text\n",
    "print(time.time() - start)"
   ]
  },
  {
   "cell_type": "code",
   "execution_count": 9,
   "metadata": {},
   "outputs": [
    {
     "data": {
      "text/html": [
       "<div>\n",
       "<style scoped>\n",
       "    .dataframe tbody tr th:only-of-type {\n",
       "        vertical-align: middle;\n",
       "    }\n",
       "\n",
       "    .dataframe tbody tr th {\n",
       "        vertical-align: top;\n",
       "    }\n",
       "\n",
       "    .dataframe thead th {\n",
       "        text-align: right;\n",
       "    }\n",
       "</style>\n",
       "<table border=\"1\" class=\"dataframe\">\n",
       "  <thead>\n",
       "    <tr style=\"text-align: right;\">\n",
       "      <th></th>\n",
       "      <th>subject</th>\n",
       "      <th>text</th>\n",
       "      <th>preprocessed_text</th>\n",
       "    </tr>\n",
       "  </thead>\n",
       "  <tbody>\n",
       "    <tr>\n",
       "      <th>0</th>\n",
       "      <td>tech</td>\n",
       "      <td>Ink helps drive democracy in Asia\\n\\nThe Kyrgy...</td>\n",
       "      <td>ink help drive democraci asia kyrgyz republ sm...</td>\n",
       "    </tr>\n",
       "    <tr>\n",
       "      <th>1</th>\n",
       "      <td>sport</td>\n",
       "      <td>Claxton hunting first major medal\\n\\nBritish h...</td>\n",
       "      <td>claxton hunt first major medal british hurdler...</td>\n",
       "    </tr>\n",
       "    <tr>\n",
       "      <th>2</th>\n",
       "      <td>politics</td>\n",
       "      <td>Labour plans maternity pay rise\\n\\nMaternity p...</td>\n",
       "      <td>labour plan matern pay rise matern pay new mot...</td>\n",
       "    </tr>\n",
       "    <tr>\n",
       "      <th>3</th>\n",
       "      <td>entertainment</td>\n",
       "      <td>Gallery unveils interactive tree\\n\\nA Christma...</td>\n",
       "      <td>galleri unveil interact tree christma tree rec...</td>\n",
       "    </tr>\n",
       "    <tr>\n",
       "      <th>4</th>\n",
       "      <td>business</td>\n",
       "      <td>Ad sales boost Time Warner profit\\n\\nQuarterly...</td>\n",
       "      <td>ad sale boost time warner profit quarterli pro...</td>\n",
       "    </tr>\n",
       "  </tbody>\n",
       "</table>\n",
       "</div>"
      ],
      "text/plain": [
       "         subject                                               text  \\\n",
       "0           tech  Ink helps drive democracy in Asia\\n\\nThe Kyrgy...   \n",
       "1          sport  Claxton hunting first major medal\\n\\nBritish h...   \n",
       "2       politics  Labour plans maternity pay rise\\n\\nMaternity p...   \n",
       "3  entertainment  Gallery unveils interactive tree\\n\\nA Christma...   \n",
       "4       business  Ad sales boost Time Warner profit\\n\\nQuarterly...   \n",
       "\n",
       "                                   preprocessed_text  \n",
       "0  ink help drive democraci asia kyrgyz republ sm...  \n",
       "1  claxton hunt first major medal british hurdler...  \n",
       "2  labour plan matern pay rise matern pay new mot...  \n",
       "3  galleri unveil interact tree christma tree rec...  \n",
       "4  ad sale boost time warner profit quarterli pro...  "
      ]
     },
     "execution_count": 9,
     "metadata": {},
     "output_type": "execute_result"
    }
   ],
   "source": [
    "news.head()"
   ]
  },
  {
   "cell_type": "markdown",
   "metadata": {},
   "source": [
    "در ابتدا برای قدم اول، از الگوریتم\n",
    "\n",
    "word2vec\n",
    "\n",
    "برای بردارسازی کلمات استفاده می کنیم. تمامی کلمات موجود در متن های پیش پردازش شده را وارد الگوریتم یادگیری کرده سپس مجموع ی بردارهای یک مجموعه را به عنوان بردار شناسایی آن خبر انتخاب می کنیم."
   ]
  },
  {
   "cell_type": "code",
   "execution_count": 11,
   "metadata": {},
   "outputs": [],
   "source": [
    "DIMENSION = 100\n",
    "words=[]\n",
    "for index,row in news.iterrows():\n",
    "    words.append(row['preprocessed_text'].split())\n"
   ]
  },
  {
   "cell_type": "code",
   "execution_count": 12,
   "metadata": {},
   "outputs": [],
   "source": [
    "w2v_model = Word2Vec(words,sg=1,iter=10,size=DIMENSION)"
   ]
  },
  {
   "cell_type": "code",
   "execution_count": 13,
   "metadata": {},
   "outputs": [
    {
     "data": {
      "text/html": [
       "<div>\n",
       "<style scoped>\n",
       "    .dataframe tbody tr th:only-of-type {\n",
       "        vertical-align: middle;\n",
       "    }\n",
       "\n",
       "    .dataframe tbody tr th {\n",
       "        vertical-align: top;\n",
       "    }\n",
       "\n",
       "    .dataframe thead th {\n",
       "        text-align: right;\n",
       "    }\n",
       "</style>\n",
       "<table border=\"1\" class=\"dataframe\">\n",
       "  <thead>\n",
       "    <tr style=\"text-align: right;\">\n",
       "      <th></th>\n",
       "      <th>subject</th>\n",
       "      <th>text</th>\n",
       "      <th>preprocessed_text</th>\n",
       "      <th>w2v_vector</th>\n",
       "    </tr>\n",
       "  </thead>\n",
       "  <tbody>\n",
       "    <tr>\n",
       "      <th>0</th>\n",
       "      <td>tech</td>\n",
       "      <td>Ink helps drive democracy in Asia\\n\\nThe Kyrgy...</td>\n",
       "      <td>ink help drive democraci asia kyrgyz republ sm...</td>\n",
       "      <td>[54.53932825534139, -19.531038270502904, 50.36...</td>\n",
       "    </tr>\n",
       "    <tr>\n",
       "      <th>1</th>\n",
       "      <td>sport</td>\n",
       "      <td>Claxton hunting first major medal\\n\\nBritish h...</td>\n",
       "      <td>claxton hunt first major medal british hurdler...</td>\n",
       "      <td>[15.92768893763423, 5.133094194345176, 22.5778...</td>\n",
       "    </tr>\n",
       "    <tr>\n",
       "      <th>2</th>\n",
       "      <td>politics</td>\n",
       "      <td>Labour plans maternity pay rise\\n\\nMaternity p...</td>\n",
       "      <td>labour plan matern pay rise matern pay new mot...</td>\n",
       "      <td>[26.90462622232735, -3.0729057490825653, 21.88...</td>\n",
       "    </tr>\n",
       "    <tr>\n",
       "      <th>3</th>\n",
       "      <td>entertainment</td>\n",
       "      <td>Gallery unveils interactive tree\\n\\nA Christma...</td>\n",
       "      <td>galleri unveil interact tree christma tree rec...</td>\n",
       "      <td>[14.856102172401734, -18.65491425152868, 14.05...</td>\n",
       "    </tr>\n",
       "    <tr>\n",
       "      <th>4</th>\n",
       "      <td>business</td>\n",
       "      <td>Ad sales boost Time Warner profit\\n\\nQuarterly...</td>\n",
       "      <td>ad sale boost time warner profit quarterli pro...</td>\n",
       "      <td>[24.80753529816866, -53.448007668950595, 0.989...</td>\n",
       "    </tr>\n",
       "  </tbody>\n",
       "</table>\n",
       "</div>"
      ],
      "text/plain": [
       "         subject                                               text  \\\n",
       "0           tech  Ink helps drive democracy in Asia\\n\\nThe Kyrgy...   \n",
       "1          sport  Claxton hunting first major medal\\n\\nBritish h...   \n",
       "2       politics  Labour plans maternity pay rise\\n\\nMaternity p...   \n",
       "3  entertainment  Gallery unveils interactive tree\\n\\nA Christma...   \n",
       "4       business  Ad sales boost Time Warner profit\\n\\nQuarterly...   \n",
       "\n",
       "                                   preprocessed_text  \\\n",
       "0  ink help drive democraci asia kyrgyz republ sm...   \n",
       "1  claxton hunt first major medal british hurdler...   \n",
       "2  labour plan matern pay rise matern pay new mot...   \n",
       "3  galleri unveil interact tree christma tree rec...   \n",
       "4  ad sale boost time warner profit quarterli pro...   \n",
       "\n",
       "                                          w2v_vector  \n",
       "0  [54.53932825534139, -19.531038270502904, 50.36...  \n",
       "1  [15.92768893763423, 5.133094194345176, 22.5778...  \n",
       "2  [26.90462622232735, -3.0729057490825653, 21.88...  \n",
       "3  [14.856102172401734, -18.65491425152868, 14.05...  \n",
       "4  [24.80753529816866, -53.448007668950595, 0.989...  "
      ]
     },
     "execution_count": 13,
     "metadata": {},
     "output_type": "execute_result"
    }
   ],
   "source": [
    "news['w2v_vector'] = pd.Series(np.zeros((news.shape[0])), index=news.index)\n",
    "b=[]\n",
    "\n",
    "for index, row in news.iterrows():\n",
    "    a=np.zeros(DIMENSION)\n",
    "    for word in row['preprocessed_text'].split():\n",
    "        try:\n",
    "            a = a  + w2v_model.wv[word]\n",
    "        except:\n",
    "            pass\n",
    "    b.append(a)\n",
    "\n",
    "news['w2v_vector']=b\n",
    "news.head()"
   ]
  },
  {
   "cell_type": "markdown",
   "metadata": {},
   "source": [
    "برای نمایش این بردارهای ۱۰۰ بعدی نیز از الگوریتم\n",
    "\n",
    "Principal Component Analysis \n",
    "\n",
    "استفاده می کنیم."
   ]
  },
  {
   "cell_type": "code",
   "execution_count": 14,
   "metadata": {},
   "outputs": [],
   "source": [
    "b_normal=normalize(b)\n",
    "pca = PCA(n_components=2,whiten=True)\n",
    "c_pca = pca.fit_transform(pd.DataFrame(b_normal))\n",
    "\n"
   ]
  },
  {
   "cell_type": "code",
   "execution_count": 15,
   "metadata": {},
   "outputs": [
    {
     "data": {
      "image/png": "[encoded data removed]",
      "text/plain": [
       "<Figure size 504x288 with 1 Axes>"
      ]
     },
     "metadata": {
      "needs_background": "light"
     },
     "output_type": "display_data"
    }
   ],
   "source": [
    "def show_original(news):\n",
    "    fig,ax = plt.subplots(1,1,figsize=(7,4))\n",
    "    for index, row in news.iterrows():\n",
    "        if row['subject']=='sport':\n",
    "            plt.scatter(c_pca[index][0],c_pca[index][1],color='red')\n",
    "        elif row['subject']=='politics':\n",
    "            plt.scatter(c_pca[index][0],c_pca[index][1],color='blue')\n",
    "        elif row['subject']=='tech':\n",
    "            plt.scatter(c_pca[index][0],c_pca[index][1],color='green')\n",
    "        elif row['subject']=='entertainment':\n",
    "            plt.scatter(c_pca[index][0],c_pca[index][1],color='yellow')\n",
    "        elif row['subject']=='business':\n",
    "            plt.scatter(c_pca[index][0],c_pca[index][1],color='black')\n",
    "    plt.legend(['tech', 'sport', 'politics', 'entertainment', 'business'])\n",
    "    plt.show()\n",
    "show_original(news)\n"
   ]
  },
  {
   "cell_type": "markdown",
   "metadata": {},
   "source": [
    "سپس قبل از دسته بندیِ، ابتدا به کمک اندازه گیری کوسینوس زاویه ی بین بردارهای معرف، سعی می کنیم نزدیک ترین بردارها را برای یک خبر خاص بیابیم"
   ]
  },
  {
   "cell_type": "code",
   "execution_count": 16,
   "metadata": {},
   "outputs": [],
   "source": [
    "def get_w2v_top_similar_docs(data,text_vectors, index, k):\n",
    "    data_res= data\n",
    "    data_res['cosine'] = pd.Series(np.zeros(data_res.shape[0]), index=data_res.index)\n",
    "\n",
    "    #package = data_res.loc[data_res['package_name']==package_name]\n",
    "    comparing_vec = text_vectors[index]\n",
    "\n",
    "    for index, row in data_res.iterrows():\n",
    "        data_res.loc[index,'cosine']=(cosine_similarity(comparing_vec.reshape(1, -1),row['w2v_vector'].reshape(1, -1))[0])\n",
    "#        pass-\n",
    "    return data_res.nlargest(k, 'cosine')\n"
   ]
  },
  {
   "cell_type": "markdown",
   "metadata": {},
   "source": [
    "پنج خبر نزدیک خبر شماره ی ۲ ورزشی را ملاحظه می فرمایید "
   ]
  },
  {
   "cell_type": "code",
   "execution_count": 23,
   "metadata": {},
   "outputs": [
    {
     "data": {
      "text/html": [
       "<div>\n",
       "<style scoped>\n",
       "    .dataframe tbody tr th:only-of-type {\n",
       "        vertical-align: middle;\n",
       "    }\n",
       "\n",
       "    .dataframe tbody tr th {\n",
       "        vertical-align: top;\n",
       "    }\n",
       "\n",
       "    .dataframe thead th {\n",
       "        text-align: right;\n",
       "    }\n",
       "</style>\n",
       "<table border=\"1\" class=\"dataframe\">\n",
       "  <thead>\n",
       "    <tr style=\"text-align: right;\">\n",
       "      <th></th>\n",
       "      <th>subject</th>\n",
       "      <th>text</th>\n",
       "      <th>preprocessed_text</th>\n",
       "      <th>w2v_vector</th>\n",
       "      <th>cosine</th>\n",
       "      <th>label</th>\n",
       "    </tr>\n",
       "  </thead>\n",
       "  <tbody>\n",
       "    <tr>\n",
       "      <th>1</th>\n",
       "      <td>sport</td>\n",
       "      <td>Claxton hunting first major medal\\n\\nBritish h...</td>\n",
       "      <td>claxton hunt first major medal british hurdler...</td>\n",
       "      <td>[15.92768893763423, 5.133094194345176, 22.5778...</td>\n",
       "      <td>1.000000</td>\n",
       "      <td>2</td>\n",
       "    </tr>\n",
       "    <tr>\n",
       "      <th>316</th>\n",
       "      <td>sport</td>\n",
       "      <td>McIlroy continues winning streak\\n\\nJames McIl...</td>\n",
       "      <td>mcilroy continu win streak jame mcilroy storm ...</td>\n",
       "      <td>[12.760075910482556, 9.095035489881411, 17.321...</td>\n",
       "      <td>0.982868</td>\n",
       "      <td>2</td>\n",
       "    </tr>\n",
       "    <tr>\n",
       "      <th>286</th>\n",
       "      <td>sport</td>\n",
       "      <td>Gardener battles to narrow win\\n\\nJason Garden...</td>\n",
       "      <td>garden battl narrow win jason garden fought wa...</td>\n",
       "      <td>[85.30157310562208, 3.202141087385826, 75.2719...</td>\n",
       "      <td>0.981388</td>\n",
       "      <td>2</td>\n",
       "    </tr>\n",
       "    <tr>\n",
       "      <th>341</th>\n",
       "      <td>sport</td>\n",
       "      <td>Holmes back on form in Birmingham\\n\\nDouble Ol...</td>\n",
       "      <td>holm back form birmingham doubl olymp champion...</td>\n",
       "      <td>[69.70367570122471, -10.267782974406146, 78.57...</td>\n",
       "      <td>0.977327</td>\n",
       "      <td>2</td>\n",
       "    </tr>\n",
       "    <tr>\n",
       "      <th>41</th>\n",
       "      <td>sport</td>\n",
       "      <td>Off-colour Gardener storms to win\\n\\nBritain's...</td>\n",
       "      <td>colour garden storm win britain jason garden s...</td>\n",
       "      <td>[33.83314597187564, -5.540382070466876, 42.075...</td>\n",
       "      <td>0.977209</td>\n",
       "      <td>2</td>\n",
       "    </tr>\n",
       "  </tbody>\n",
       "</table>\n",
       "</div>"
      ],
      "text/plain": [
       "    subject                                               text  \\\n",
       "1     sport  Claxton hunting first major medal\\n\\nBritish h...   \n",
       "316   sport  McIlroy continues winning streak\\n\\nJames McIl...   \n",
       "286   sport  Gardener battles to narrow win\\n\\nJason Garden...   \n",
       "341   sport  Holmes back on form in Birmingham\\n\\nDouble Ol...   \n",
       "41    sport  Off-colour Gardener storms to win\\n\\nBritain's...   \n",
       "\n",
       "                                     preprocessed_text  \\\n",
       "1    claxton hunt first major medal british hurdler...   \n",
       "316  mcilroy continu win streak jame mcilroy storm ...   \n",
       "286  garden battl narrow win jason garden fought wa...   \n",
       "341  holm back form birmingham doubl olymp champion...   \n",
       "41   colour garden storm win britain jason garden s...   \n",
       "\n",
       "                                            w2v_vector    cosine  label  \n",
       "1    [15.92768893763423, 5.133094194345176, 22.5778...  1.000000      2  \n",
       "316  [12.760075910482556, 9.095035489881411, 17.321...  0.982868      2  \n",
       "286  [85.30157310562208, 3.202141087385826, 75.2719...  0.981388      2  \n",
       "341  [69.70367570122471, -10.267782974406146, 78.57...  0.977327      2  \n",
       "41   [33.83314597187564, -5.540382070466876, 42.075...  0.977209      2  "
      ]
     },
     "execution_count": 23,
     "metadata": {},
     "output_type": "execute_result"
    }
   ],
   "source": [
    "examples_df = get_w2v_top_similar_docs(news, b, index=1, k=5)\n",
    "examples_df.head(10)"
   ]
  },
  {
   "cell_type": "markdown",
   "metadata": {},
   "source": [
    "به کمک الگوریتم\n",
    "\n",
    "KMeans\n",
    "\n",
    "نیز یک خوشه بندی ۵ تایی برای این اخبار انجام می دهیم."
   ]
  },
  {
   "cell_type": "code",
   "execution_count": 24,
   "metadata": {},
   "outputs": [
    {
     "data": {
      "text/plain": [
       "KMeans(algorithm='auto', copy_x=True, init='k-means++', max_iter=300,\n",
       "    n_clusters=5, n_init=10, n_jobs=None, precompute_distances='auto',\n",
       "    random_state=None, tol=0.0001, verbose=0)"
      ]
     },
     "execution_count": 24,
     "metadata": {},
     "output_type": "execute_result"
    }
   ],
   "source": [
    "km = KMeans(n_clusters=5)\n",
    "km.fit(b_normal)\n",
    "#print(km.cluster_centers_)"
   ]
  },
  {
   "cell_type": "code",
   "execution_count": 25,
   "metadata": {},
   "outputs": [],
   "source": [
    "def show_clustered(data,km):\n",
    "    fig,ax = plt.subplots(1,1,figsize=(7,4))\n",
    "    c=[]\n",
    "    pca = PCA(n_components=2,whiten=True)\n",
    "    for i in range(len(data)):\n",
    "        #print(data[i])\n",
    "        c.append(km.predict(data[i].reshape(1,-1))[0])\n",
    "\n",
    "    X = pca.fit_transform(pd.DataFrame(data))\n",
    "    #print(X.shape)\n",
    "    for index in range(X.shape[0]):\n",
    "        if c[index] ==0:\n",
    "            plt.scatter(X[index][0],X[index][1],color='red')\n",
    "        elif c[index] ==1:\n",
    "            plt.scatter(X[index][0],X[index][1],color='blue')\n",
    "        elif c[index] ==2:\n",
    "            plt.scatter(X[index][0],X[index][1],color='green')\n",
    "        elif c[index] ==3:\n",
    "            plt.scatter(X[index][0],X[index][1],color='yellow')\n",
    "        elif c[index] ==4:\n",
    "            plt.scatter(X[index][0],X[index][1],color='black')\n",
    "    plt.show()\n",
    "    return c"
   ]
  },
  {
   "cell_type": "code",
   "execution_count": 26,
   "metadata": {},
   "outputs": [
    {
     "data": {
      "image/png": "[encoded data removed]",
      "text/plain": [
       "<Figure size 504x288 with 1 Axes>"
      ]
     },
     "metadata": {
      "needs_background": "light"
     },
     "output_type": "display_data"
    },
    {
     "data": {
      "image/png": "[encoded data removed]",
      "text/plain": [
       "<Figure size 504x288 with 1 Axes>"
      ]
     },
     "metadata": {
      "needs_background": "light"
     },
     "output_type": "display_data"
    }
   ],
   "source": [
    "#print(b)\n",
    "c=show_clustered(b_normal,km)\n",
    "show_original(news)\n",
    "news['label']=c[:]\n",
    "#for i in range(len(c)):\n"
   ]
  },
  {
   "cell_type": "code",
   "execution_count": 27,
   "metadata": {},
   "outputs": [
    {
     "data": {
      "text/html": [
       "<div>\n",
       "<style scoped>\n",
       "    .dataframe tbody tr th:only-of-type {\n",
       "        vertical-align: middle;\n",
       "    }\n",
       "\n",
       "    .dataframe tbody tr th {\n",
       "        vertical-align: top;\n",
       "    }\n",
       "\n",
       "    .dataframe thead th {\n",
       "        text-align: right;\n",
       "    }\n",
       "</style>\n",
       "<table border=\"1\" class=\"dataframe\">\n",
       "  <thead>\n",
       "    <tr style=\"text-align: right;\">\n",
       "      <th></th>\n",
       "      <th>subject</th>\n",
       "      <th>text</th>\n",
       "      <th>preprocessed_text</th>\n",
       "      <th>w2v_vector</th>\n",
       "      <th>cosine</th>\n",
       "      <th>label</th>\n",
       "    </tr>\n",
       "  </thead>\n",
       "  <tbody>\n",
       "    <tr>\n",
       "      <th>0</th>\n",
       "      <td>tech</td>\n",
       "      <td>Ink helps drive democracy in Asia\\n\\nThe Kyrgy...</td>\n",
       "      <td>ink help drive democraci asia kyrgyz republ sm...</td>\n",
       "      <td>[54.53932825534139, -19.531038270502904, 50.36...</td>\n",
       "      <td>0.756393</td>\n",
       "      <td>3</td>\n",
       "    </tr>\n",
       "    <tr>\n",
       "      <th>1</th>\n",
       "      <td>sport</td>\n",
       "      <td>Claxton hunting first major medal\\n\\nBritish h...</td>\n",
       "      <td>claxton hunt first major medal british hurdler...</td>\n",
       "      <td>[15.92768893763423, 5.133094194345176, 22.5778...</td>\n",
       "      <td>1.000000</td>\n",
       "      <td>2</td>\n",
       "    </tr>\n",
       "    <tr>\n",
       "      <th>2</th>\n",
       "      <td>politics</td>\n",
       "      <td>Labour plans maternity pay rise\\n\\nMaternity p...</td>\n",
       "      <td>labour plan matern pay rise matern pay new mot...</td>\n",
       "      <td>[26.90462622232735, -3.0729057490825653, 21.88...</td>\n",
       "      <td>0.797739</td>\n",
       "      <td>3</td>\n",
       "    </tr>\n",
       "    <tr>\n",
       "      <th>3</th>\n",
       "      <td>entertainment</td>\n",
       "      <td>Gallery unveils interactive tree\\n\\nA Christma...</td>\n",
       "      <td>galleri unveil interact tree christma tree rec...</td>\n",
       "      <td>[14.856102172401734, -18.65491425152868, 14.05...</td>\n",
       "      <td>0.804295</td>\n",
       "      <td>0</td>\n",
       "    </tr>\n",
       "    <tr>\n",
       "      <th>4</th>\n",
       "      <td>business</td>\n",
       "      <td>Ad sales boost Time Warner profit\\n\\nQuarterly...</td>\n",
       "      <td>ad sale boost time warner profit quarterli pro...</td>\n",
       "      <td>[24.80753529816866, -53.448007668950595, 0.989...</td>\n",
       "      <td>0.782179</td>\n",
       "      <td>1</td>\n",
       "    </tr>\n",
       "    <tr>\n",
       "      <th>5</th>\n",
       "      <td>tech</td>\n",
       "      <td>China net cafe culture crackdown\\n\\nChinese au...</td>\n",
       "      <td>china net cafe cultur crackdown chines author ...</td>\n",
       "      <td>[56.1191841205582, -35.452930002560606, 20.450...</td>\n",
       "      <td>0.716652</td>\n",
       "      <td>4</td>\n",
       "    </tr>\n",
       "    <tr>\n",
       "      <th>6</th>\n",
       "      <td>sport</td>\n",
       "      <td>O'Sullivan could run in Worlds\\n\\nSonia O'Sull...</td>\n",
       "      <td>sullivan could run world sonia sullivan ha ind...</td>\n",
       "      <td>[12.076606816612184, 1.6152534506982192, 20.54...</td>\n",
       "      <td>0.934918</td>\n",
       "      <td>2</td>\n",
       "    </tr>\n",
       "    <tr>\n",
       "      <th>7</th>\n",
       "      <td>politics</td>\n",
       "      <td>Watchdog probes e-mail deletions\\n\\nThe inform...</td>\n",
       "      <td>watchdog probe e mail delet inform commission ...</td>\n",
       "      <td>[44.282609700225294, -21.09926699171774, 54.53...</td>\n",
       "      <td>0.693479</td>\n",
       "      <td>3</td>\n",
       "    </tr>\n",
       "    <tr>\n",
       "      <th>8</th>\n",
       "      <td>entertainment</td>\n",
       "      <td>Jarre joins fairytale celebration\\n\\nFrench mu...</td>\n",
       "      <td>jarr join fairytal celebr french musician jean...</td>\n",
       "      <td>[21.564802825145307, -21.85225820937194, 32.53...</td>\n",
       "      <td>0.791389</td>\n",
       "      <td>0</td>\n",
       "    </tr>\n",
       "    <tr>\n",
       "      <th>9</th>\n",
       "      <td>business</td>\n",
       "      <td>Dollar gains on Greenspan speech\\n\\nThe dollar...</td>\n",
       "      <td>dollar gain greenspan speech dollar ha hit hig...</td>\n",
       "      <td>[-6.5020314826397225, -0.965555147617124, 0.35...</td>\n",
       "      <td>0.794180</td>\n",
       "      <td>1</td>\n",
       "    </tr>\n",
       "  </tbody>\n",
       "</table>\n",
       "</div>"
      ],
      "text/plain": [
       "         subject                                               text  \\\n",
       "0           tech  Ink helps drive democracy in Asia\\n\\nThe Kyrgy...   \n",
       "1          sport  Claxton hunting first major medal\\n\\nBritish h...   \n",
       "2       politics  Labour plans maternity pay rise\\n\\nMaternity p...   \n",
       "3  entertainment  Gallery unveils interactive tree\\n\\nA Christma...   \n",
       "4       business  Ad sales boost Time Warner profit\\n\\nQuarterly...   \n",
       "5           tech  China net cafe culture crackdown\\n\\nChinese au...   \n",
       "6          sport  O'Sullivan could run in Worlds\\n\\nSonia O'Sull...   \n",
       "7       politics  Watchdog probes e-mail deletions\\n\\nThe inform...   \n",
       "8  entertainment  Jarre joins fairytale celebration\\n\\nFrench mu...   \n",
       "9       business  Dollar gains on Greenspan speech\\n\\nThe dollar...   \n",
       "\n",
       "                                   preprocessed_text  \\\n",
       "0  ink help drive democraci asia kyrgyz republ sm...   \n",
       "1  claxton hunt first major medal british hurdler...   \n",
       "2  labour plan matern pay rise matern pay new mot...   \n",
       "3  galleri unveil interact tree christma tree rec...   \n",
       "4  ad sale boost time warner profit quarterli pro...   \n",
       "5  china net cafe cultur crackdown chines author ...   \n",
       "6  sullivan could run world sonia sullivan ha ind...   \n",
       "7  watchdog probe e mail delet inform commission ...   \n",
       "8  jarr join fairytal celebr french musician jean...   \n",
       "9  dollar gain greenspan speech dollar ha hit hig...   \n",
       "\n",
       "                                          w2v_vector    cosine  label  \n",
       "0  [54.53932825534139, -19.531038270502904, 50.36...  0.756393      3  \n",
       "1  [15.92768893763423, 5.133094194345176, 22.5778...  1.000000      2  \n",
       "2  [26.90462622232735, -3.0729057490825653, 21.88...  0.797739      3  \n",
       "3  [14.856102172401734, -18.65491425152868, 14.05...  0.804295      0  \n",
       "4  [24.80753529816866, -53.448007668950595, 0.989...  0.782179      1  \n",
       "5  [56.1191841205582, -35.452930002560606, 20.450...  0.716652      4  \n",
       "6  [12.076606816612184, 1.6152534506982192, 20.54...  0.934918      2  \n",
       "7  [44.282609700225294, -21.09926699171774, 54.53...  0.693479      3  \n",
       "8  [21.564802825145307, -21.85225820937194, 32.53...  0.791389      0  \n",
       "9  [-6.5020314826397225, -0.965555147617124, 0.35...  0.794180      1  "
      ]
     },
     "execution_count": 27,
     "metadata": {},
     "output_type": "execute_result"
    }
   ],
   "source": [
    "news.head(10)"
   ]
  },
  {
   "cell_type": "code",
   "execution_count": 22,
   "metadata": {},
   "outputs": [
    {
     "name": "stdout",
     "output_type": "stream",
     "text": [
      "          subject  label    c\n",
      "0           sport      2  494\n",
      "1        business      1  461\n",
      "2        politics      3  406\n",
      "3            tech      0  383\n",
      "4   entertainment      4  350\n",
      "5        business      3   26\n",
      "6   entertainment      0   16\n",
      "7   entertainment      3   16\n",
      "8        business      0   12\n",
      "9        politics      1    7\n",
      "10           tech      3    7\n",
      "11           tech      4    6\n",
      "12           tech      1    5\n",
      "13  entertainment      1    4\n",
      "14          sport      3    3\n",
      "15       politics      0    2\n",
      "16       politics      2    1\n",
      "17       politics      4    1\n",
      "18          sport      1    1\n",
      "19          sport      4    1\n"
     ]
    }
   ],
   "source": [
    "query=\"\"\"SELECT subject,label,count(*) c FROM news group by subject,label order by c DESC\"\"\"\n",
    "\n",
    "print(ps.sqldf(query, locals()))\n"
   ]
  },
  {
   "cell_type": "code",
   "execution_count": null,
   "metadata": {},
   "outputs": [],
   "source": []
  }
 ],
 "metadata": {
  "kernelspec": {
   "display_name": "Python 3",
   "language": "python",
   "name": "python3"
  },
  "language_info": {
   "codemirror_mode": {
    "name": "ipython",
    "version": 3
   },
   "file_extension": ".py",
   "mimetype": "text/x-python",
   "name": "python",
   "nbconvert_exporter": "python",
   "pygments_lexer": "ipython3",
   "version": "3.6.8"
  }
 },
 "nbformat": 4,
 "nbformat_minor": 2
}
